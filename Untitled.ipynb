{
 "cells": [
  {
   "cell_type": "markdown",
   "metadata": {},
   "source": [
    "$$\\begin{equation}\n",
    "\\left.\n",
    "\\begin{aligned}\n",
    "   S_T - K \\space \\space \\textrm{if} \\space \\space S_T \\geq K \\\\\n",
    "   0       \\space \\space \\textrm{if} \\space \\space S_T \\leq K\n",
    "\\end{aligned}\n",
    "\\right\\}\n",
    "\\end{equation} = \\textrm{max}\\{S_T - K, 0\\} = \\left(S_T - K\\right)^+$$"
   ]
  },
  {
   "cell_type": "markdown",
   "metadata": {},
   "source": [
    "$$\\begin{equation}\n",
    "\\left.\n",
    "\\begin{aligned}\n",
    "   S_T - K \\space \\space \\textrm{if} \\space \\space S_T \\geq K \\\\\n",
    "   0       \\space \\space \\textrm{if} \\space \\space S_T \\leq K\n",
    "\\end{aligned}\n",
    "\\right\\}\n",
    "\\end{equation} = \\textrm{max}\\{S_T - K, 0\\} = \\left(S_T - K\\right)^+$$"
   ]
  },
  {
   "cell_type": "code",
   "execution_count": null,
   "metadata": {},
   "outputs": [],
   "source": []
  }
 ],
 "metadata": {
  "kernelspec": {
   "display_name": "Python 3",
   "language": "python",
   "name": "python3"
  },
  "language_info": {
   "codemirror_mode": {
    "name": "ipython",
    "version": 3
   },
   "file_extension": ".py",
   "mimetype": "text/x-python",
   "name": "python",
   "nbconvert_exporter": "python",
   "pygments_lexer": "ipython3",
   "version": "3.7.3"
  }
 },
 "nbformat": 4,
 "nbformat_minor": 2
}
